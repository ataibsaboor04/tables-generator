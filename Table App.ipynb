{
 "cells": [
  {
   "cell_type": "markdown",
   "metadata": {},
   "source": [
    "# Created By: Ataib Saboor"
   ]
  },
  {
   "cell_type": "markdown",
   "metadata": {},
   "source": [
    "### [My Github](https://github.com/ataibsaboor04)"
   ]
  },
  {
   "cell_type": "markdown",
   "metadata": {},
   "source": [
    "## Tkinter Tutorial"
   ]
  },
  {
   "cell_type": "markdown",
   "metadata": {},
   "source": [
    "### Import"
   ]
  },
  {
   "cell_type": "code",
   "execution_count": 1,
   "metadata": {},
   "outputs": [],
   "source": [
    "# import the required modules and libraries\n",
    "import tkinter as tk\n",
    "import random"
   ]
  },
  {
   "cell_type": "markdown",
   "metadata": {},
   "source": [
    "### Window"
   ]
  },
  {
   "cell_type": "code",
   "execution_count": 2,
   "metadata": {},
   "outputs": [
    {
     "data": {
      "text/plain": [
       "''"
      ]
     },
     "execution_count": 2,
     "metadata": {},
     "output_type": "execute_result"
    }
   ],
   "source": [
    "# WINDOW\n",
    "window = tk.Tk()\n",
    "window.title(\"Table\")\n",
    "window.geometry(\"1280x950\")"
   ]
  },
  {
   "cell_type": "markdown",
   "metadata": {},
   "source": [
    "### Functions "
   ]
  },
  {
   "cell_type": "code",
   "execution_count": 3,
   "metadata": {},
   "outputs": [],
   "source": [
    "def table_generator(a, b):\n",
    "    \"\"\"\n",
    "    Input:\n",
    "    a : start\n",
    "    b : end (included)\n",
    "    \n",
    "    Output:\n",
    "    s : string containg well formatted tables from a to b\n",
    "    \"\"\"\n",
    "    s = str(\"\\n\\t\\t\\t\\t  Tables from \" + str(a) + \" to \" + str(b) + \" \\n\\n\")\n",
    "    for z in range(a, b, 4):\n",
    "        for y in range(1, 11):\n",
    "            for x in range(z, z+4):\n",
    "                if x <= b:\n",
    "                    s = s + str(str(x) + ' x ' + str(y) +  ' = ' + str(x*y))\n",
    "                    l = len(str(y)+str(x*y)+str(x))\n",
    "                    h = [' '*15, ' '*14, ' '*13, ' '*12, ' '*11, ' '*10, ' '*9, ' '*8, ' '*7, ' '*6, ' '*5, ' '*4, ' '*3, ' '*2, ' ']\n",
    "                    try:\n",
    "                        s += h[l-2]\n",
    "                    except IndexError:\n",
    "                        s = 'Its too high man!!'\n",
    "\n",
    "            s += '\\n'\n",
    "        s += '\\n'\n",
    "    return s"
   ]
  },
  {
   "cell_type": "code",
   "execution_count": 4,
   "metadata": {},
   "outputs": [],
   "source": [
    "def table_display():\n",
    "    x, y = str(entryfield1.get()).split()\n",
    "    table = table_generator(int(x), int(y))\n",
    "    table_display = tk.Text(master=window, height=40, width=100)\n",
    "    table_display.grid(row=3 , column=1)\n",
    "    table_display.insert(tk.END, table)"
   ]
  },
  {
   "cell_type": "markdown",
   "metadata": {},
   "source": [
    "### Label"
   ]
  },
  {
   "cell_type": "code",
   "execution_count": 5,
   "metadata": {},
   "outputs": [],
   "source": [
    "# LABEL\n",
    "label1 = tk.Label(master=window, text=\"Welcome to My APP\", font=(\"Times New Roman\", 25))\n",
    "label1.grid(row=0, column=0)"
   ]
  },
  {
   "cell_type": "code",
   "execution_count": 6,
   "metadata": {},
   "outputs": [],
   "source": [
    "label2 = tk.Label(master=window, text=\"Enter two numbers with space: \")\n",
    "label2.grid(row=1, column=0)"
   ]
  },
  {
   "cell_type": "markdown",
   "metadata": {},
   "source": [
    "### Entry Field"
   ]
  },
  {
   "cell_type": "code",
   "execution_count": 7,
   "metadata": {},
   "outputs": [],
   "source": [
    "# ENTRY FIELD\n",
    "entryfield1 = tk.Entry() \n",
    "entryfield1.grid(row=1, column=1)"
   ]
  },
  {
   "cell_type": "markdown",
   "metadata": {},
   "source": [
    "### Button"
   ]
  },
  {
   "cell_type": "code",
   "execution_count": 8,
   "metadata": {},
   "outputs": [],
   "source": [
    "# BUTTON\n",
    "button1 = tk.Button(text=\"Click Here\", bg='red', command=table_display)\n",
    "button1.grid(row=2, column=1)"
   ]
  },
  {
   "cell_type": "markdown",
   "metadata": {},
   "source": [
    "### Text Field"
   ]
  },
  {
   "cell_type": "code",
   "execution_count": 9,
   "metadata": {},
   "outputs": [],
   "source": [
    "# TEXT FIELD\n",
    "# textfield1 = tk.Text(master=window, height=10, width=30)\n",
    "# textfield1.grid(row=2, column=0)"
   ]
  },
  {
   "cell_type": "markdown",
   "metadata": {},
   "source": [
    "### Launch"
   ]
  },
  {
   "cell_type": "code",
   "execution_count": 10,
   "metadata": {},
   "outputs": [],
   "source": [
    "# Make the frame to appear on the screen\n",
    "window.mainloop()"
   ]
  }
 ],
 "metadata": {
  "kernelspec": {
   "display_name": "Python 3",
   "language": "python",
   "name": "python3"
  },
  "language_info": {
   "codemirror_mode": {
    "name": "ipython",
    "version": 3
   },
   "file_extension": ".py",
   "mimetype": "text/x-python",
   "name": "python",
   "nbconvert_exporter": "python",
   "pygments_lexer": "ipython3",
   "version": "3.7.4"
  }
 },
 "nbformat": 4,
 "nbformat_minor": 4
}
